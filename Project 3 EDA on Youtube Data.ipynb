{
 "cells": [
  {
   "cell_type": "markdown",
   "id": "2e6b845c",
   "metadata": {},
   "source": [
    "# Exploratory Data Analysis on YouTube data"
   ]
  },
  {
   "cell_type": "markdown",
   "id": "0610c457",
   "metadata": {},
   "source": [
    "## Domain: Social media"
   ]
  },
  {
   "cell_type": "markdown",
   "id": "6d282900",
   "metadata": {},
   "source": [
    "### 1. Import required libraries and read the provided dataset (youtube_dislike_dataset.csv) and retrieve top 5 and bottom 5 records."
   ]
  },
  {
   "cell_type": "code",
   "execution_count": 1,
   "id": "91005ddc",
   "metadata": {},
   "outputs": [],
   "source": [
    "# importing the required libraries\n",
    "\n",
    "import numpy as np\n",
    "import pandas as pd\n",
    "\n",
    "# importing datetime for creating datetime objects\n",
    "from datetime import datetime\n",
    "\n",
    "# importing calendar module for displaying week,weekday,month\n",
    "import calendar\n",
    "\n",
    "# importing matplotlib and seaborn for visulisation\n",
    "import matplotlib.pyplot as plt\n",
    "import seaborn as sns"
   ]
  },
  {
   "cell_type": "code",
   "execution_count": 2,
   "id": "6e2725de",
   "metadata": {},
   "outputs": [],
   "source": [
    "# reading the csv data and storing it in dataframe \n",
    "data = pd.read_csv('youtube_dislike_dataset.csv')"
   ]
  },
  {
   "cell_type": "code",
   "execution_count": 3,
   "id": "2c1f05c9",
   "metadata": {},
   "outputs": [
    {
     "data": {
      "text/html": [
       "<div>\n",
       "<style scoped>\n",
       "    .dataframe tbody tr th:only-of-type {\n",
       "        vertical-align: middle;\n",
       "    }\n",
       "\n",
       "    .dataframe tbody tr th {\n",
       "        vertical-align: top;\n",
       "    }\n",
       "\n",
       "    .dataframe thead th {\n",
       "        text-align: right;\n",
       "    }\n",
       "</style>\n",
       "<table border=\"1\" class=\"dataframe\">\n",
       "  <thead>\n",
       "    <tr style=\"text-align: right;\">\n",
       "      <th></th>\n",
       "      <th>video_id</th>\n",
       "      <th>title</th>\n",
       "      <th>channel_id</th>\n",
       "      <th>channel_title</th>\n",
       "      <th>published_at</th>\n",
       "      <th>view_count</th>\n",
       "      <th>likes</th>\n",
       "      <th>dislikes</th>\n",
       "      <th>comment_count</th>\n",
       "      <th>tags</th>\n",
       "      <th>description</th>\n",
       "      <th>comments</th>\n",
       "    </tr>\n",
       "  </thead>\n",
       "  <tbody>\n",
       "    <tr>\n",
       "      <th>0</th>\n",
       "      <td>--0bCF-iK2E</td>\n",
       "      <td>Jadon Sancho  Magical Skills &amp; Goals</td>\n",
       "      <td>UC6UL29enLNe4mqwTfAyeNuw</td>\n",
       "      <td>Bundesliga</td>\n",
       "      <td>2021-07-01 10:00:00</td>\n",
       "      <td>1048888</td>\n",
       "      <td>19515</td>\n",
       "      <td>226</td>\n",
       "      <td>1319</td>\n",
       "      <td>football soccer ftbol alemn Bundesliga season ...</td>\n",
       "      <td>Enjoy the best skills and goals from Jadon San...</td>\n",
       "      <td>Respect to Dortmund fans,must be sad losing hi...</td>\n",
       "    </tr>\n",
       "    <tr>\n",
       "      <th>1</th>\n",
       "      <td>--14w5SOEUs</td>\n",
       "      <td>Migos - Avalanche (Official Video)</td>\n",
       "      <td>UCGIelM2Dj3zza3xyV3pL3WQ</td>\n",
       "      <td>MigosVEVO</td>\n",
       "      <td>2021-06-10 16:00:00</td>\n",
       "      <td>15352638</td>\n",
       "      <td>359277</td>\n",
       "      <td>7479</td>\n",
       "      <td>18729</td>\n",
       "      <td>Migos Avalanche Quality Control Music/Motown R...</td>\n",
       "      <td>Watch the the official video for Migos - \"Aval...</td>\n",
       "      <td>Migos just makes me want to live my live to th...</td>\n",
       "    </tr>\n",
       "    <tr>\n",
       "      <th>2</th>\n",
       "      <td>--40TEbZ9Is</td>\n",
       "      <td>Supporting Actress in a Comedy: 73rd Emmys</td>\n",
       "      <td>UClBKH8yZRcM4AsRjDVEdjMg</td>\n",
       "      <td>Television Academy</td>\n",
       "      <td>2021-09-20 01:03:32</td>\n",
       "      <td>925281</td>\n",
       "      <td>11212</td>\n",
       "      <td>401</td>\n",
       "      <td>831</td>\n",
       "      <td></td>\n",
       "      <td>Hannah Waddingham wins the Emmy for Supporting...</td>\n",
       "      <td>Hannah's energy bursts through any screen. Wel...</td>\n",
       "    </tr>\n",
       "    <tr>\n",
       "      <th>3</th>\n",
       "      <td>--4tfbSyYDE</td>\n",
       "      <td>JO1'YOUNG (JO1 ver.)' PERFORMANCE VIDEO</td>\n",
       "      <td>UCsmXiDP8S40uBeJYxvyulmA</td>\n",
       "      <td>JO1</td>\n",
       "      <td>2021-03-03 10:00:17</td>\n",
       "      <td>2641597</td>\n",
       "      <td>39131</td>\n",
       "      <td>441</td>\n",
       "      <td>3745</td>\n",
       "      <td>PRODUCE101JAPAN              JO1   TheSTAR STA...</td>\n",
       "      <td>JO1'YOUNG (JO1 ver.)' PERFORMANCE VIDEO\\n\\n---...</td>\n",
       "      <td>youngVer&gt;&lt;  REN is really PERFECT. It's not ju...</td>\n",
       "    </tr>\n",
       "    <tr>\n",
       "      <th>4</th>\n",
       "      <td>--DKkzWVh-E</td>\n",
       "      <td>Why Retaining Walls Collapse</td>\n",
       "      <td>UCMOqf8ab-42UUQIdVoKwjlQ</td>\n",
       "      <td>Practical Engineering</td>\n",
       "      <td>2021-12-07 13:00:00</td>\n",
       "      <td>715724</td>\n",
       "      <td>32887</td>\n",
       "      <td>367</td>\n",
       "      <td>1067</td>\n",
       "      <td>retaining wall New Jersey highway Direct Conne...</td>\n",
       "      <td>One of the most important (and innocuous) part...</td>\n",
       "      <td>Keep up with all my projects here: https://pr...</td>\n",
       "    </tr>\n",
       "  </tbody>\n",
       "</table>\n",
       "</div>"
      ],
      "text/plain": [
       "      video_id                                       title  \\\n",
       "0  --0bCF-iK2E        Jadon Sancho  Magical Skills & Goals   \n",
       "1  --14w5SOEUs          Migos - Avalanche (Official Video)   \n",
       "2  --40TEbZ9Is  Supporting Actress in a Comedy: 73rd Emmys   \n",
       "3  --4tfbSyYDE     JO1'YOUNG (JO1 ver.)' PERFORMANCE VIDEO   \n",
       "4  --DKkzWVh-E                Why Retaining Walls Collapse   \n",
       "\n",
       "                 channel_id          channel_title         published_at  \\\n",
       "0  UC6UL29enLNe4mqwTfAyeNuw             Bundesliga  2021-07-01 10:00:00   \n",
       "1  UCGIelM2Dj3zza3xyV3pL3WQ              MigosVEVO  2021-06-10 16:00:00   \n",
       "2  UClBKH8yZRcM4AsRjDVEdjMg     Television Academy  2021-09-20 01:03:32   \n",
       "3  UCsmXiDP8S40uBeJYxvyulmA                    JO1  2021-03-03 10:00:17   \n",
       "4  UCMOqf8ab-42UUQIdVoKwjlQ  Practical Engineering  2021-12-07 13:00:00   \n",
       "\n",
       "   view_count   likes  dislikes  comment_count  \\\n",
       "0     1048888   19515       226           1319   \n",
       "1    15352638  359277      7479          18729   \n",
       "2      925281   11212       401            831   \n",
       "3     2641597   39131       441           3745   \n",
       "4      715724   32887       367           1067   \n",
       "\n",
       "                                                tags  \\\n",
       "0  football soccer ftbol alemn Bundesliga season ...   \n",
       "1  Migos Avalanche Quality Control Music/Motown R...   \n",
       "2                                                      \n",
       "3  PRODUCE101JAPAN              JO1   TheSTAR STA...   \n",
       "4  retaining wall New Jersey highway Direct Conne...   \n",
       "\n",
       "                                         description  \\\n",
       "0  Enjoy the best skills and goals from Jadon San...   \n",
       "1  Watch the the official video for Migos - \"Aval...   \n",
       "2  Hannah Waddingham wins the Emmy for Supporting...   \n",
       "3  JO1'YOUNG (JO1 ver.)' PERFORMANCE VIDEO\\n\\n---...   \n",
       "4  One of the most important (and innocuous) part...   \n",
       "\n",
       "                                            comments  \n",
       "0  Respect to Dortmund fans,must be sad losing hi...  \n",
       "1  Migos just makes me want to live my live to th...  \n",
       "2  Hannah's energy bursts through any screen. Wel...  \n",
       "3  youngVer><  REN is really PERFECT. It's not ju...  \n",
       "4   Keep up with all my projects here: https://pr...  "
      ]
     },
     "execution_count": 3,
     "metadata": {},
     "output_type": "execute_result"
    }
   ],
   "source": [
    "# to retrieve top 5 records\n",
    "data.head()"
   ]
  },
  {
   "cell_type": "code",
   "execution_count": 4,
   "id": "4f0189cc",
   "metadata": {},
   "outputs": [
    {
     "data": {
      "text/html": [
       "<div>\n",
       "<style scoped>\n",
       "    .dataframe tbody tr th:only-of-type {\n",
       "        vertical-align: middle;\n",
       "    }\n",
       "\n",
       "    .dataframe tbody tr th {\n",
       "        vertical-align: top;\n",
       "    }\n",
       "\n",
       "    .dataframe thead th {\n",
       "        text-align: right;\n",
       "    }\n",
       "</style>\n",
       "<table border=\"1\" class=\"dataframe\">\n",
       "  <thead>\n",
       "    <tr style=\"text-align: right;\">\n",
       "      <th></th>\n",
       "      <th>video_id</th>\n",
       "      <th>title</th>\n",
       "      <th>channel_id</th>\n",
       "      <th>channel_title</th>\n",
       "      <th>published_at</th>\n",
       "      <th>view_count</th>\n",
       "      <th>likes</th>\n",
       "      <th>dislikes</th>\n",
       "      <th>comment_count</th>\n",
       "      <th>tags</th>\n",
       "      <th>description</th>\n",
       "      <th>comments</th>\n",
       "    </tr>\n",
       "  </thead>\n",
       "  <tbody>\n",
       "    <tr>\n",
       "      <th>37417</th>\n",
       "      <td>zzd4ydafGR0</td>\n",
       "      <td>Lil Tjay - Calling My Phone (feat. 6LACK) [Off...</td>\n",
       "      <td>UCEB4a5o_6KfjxHwNMnmj54Q</td>\n",
       "      <td>Lil Tjay</td>\n",
       "      <td>2021-02-12 05:03:49</td>\n",
       "      <td>120408275</td>\n",
       "      <td>2180780</td>\n",
       "      <td>35871</td>\n",
       "      <td>81360</td>\n",
       "      <td>Lil Tjay Steady Calling My Phone Calling My Ph...</td>\n",
       "      <td>Official video for \"Calling My Phone\" by Lil T...</td>\n",
       "      <td>'DESTINED 2 WIN' OUT NOW !! https://liltjay.ln...</td>\n",
       "    </tr>\n",
       "    <tr>\n",
       "      <th>37418</th>\n",
       "      <td>zziBybeSAtw</td>\n",
       "      <td>PELICANS at LAKERS | FULL GAME HIGHLIGHTS | Ja...</td>\n",
       "      <td>UCWJ2lWNubArHWmf3FIHbfcQ</td>\n",
       "      <td>NBA</td>\n",
       "      <td>2021-01-16 05:39:05</td>\n",
       "      <td>2841917</td>\n",
       "      <td>20759</td>\n",
       "      <td>1049</td>\n",
       "      <td>2624</td>\n",
       "      <td>NBA G League Basketball game-0022000187 Lakers...</td>\n",
       "      <td>PELICANS at LAKERS | FULL GAME HIGHLIGHTS | Ja...</td>\n",
       "      <td>Montrezl Harrell is going crazy with the rebou...</td>\n",
       "    </tr>\n",
       "    <tr>\n",
       "      <th>37419</th>\n",
       "      <td>zzk09ESX7e0</td>\n",
       "      <td>[MV]  (MAMAMOO) - Where Are We Now</td>\n",
       "      <td>UCuhAUMLzJxlP1W7mEk0_6lA</td>\n",
       "      <td>MAMAMOO</td>\n",
       "      <td>2021-06-02 09:00:10</td>\n",
       "      <td>13346678</td>\n",
       "      <td>720854</td>\n",
       "      <td>4426</td>\n",
       "      <td>90616</td>\n",
       "      <td>MAMAMOO  WAW  WAW MAMAMOO WAW Where Are We Now...</td>\n",
       "      <td>[MV]  (MAMAMOO) - Where Are We Now\\n\\nInstagra...</td>\n",
       "      <td>I honestly do not know why this song hit so ha...</td>\n",
       "    </tr>\n",
       "    <tr>\n",
       "      <th>37420</th>\n",
       "      <td>zzmQEb0Em5I</td>\n",
       "      <td>FELLIPE ESCUDERO- Master Podcast  #12</td>\n",
       "      <td>UC8NjnNWMsRqq11NYvHAQb1g</td>\n",
       "      <td>Master Podcast</td>\n",
       "      <td>2020-10-20 20:59:30</td>\n",
       "      <td>252057</td>\n",
       "      <td>19198</td>\n",
       "      <td>1234</td>\n",
       "      <td>1471</td>\n",
       "      <td>master masterpodcast lord lord vinheteiro z z ...</td>\n",
       "      <td>DOCTOR HAIR\\nhttps://www.thedoctorhair.com/?fb...</td>\n",
       "      <td>Foi um prazer passar esta tarde com vocs debat...</td>\n",
       "    </tr>\n",
       "    <tr>\n",
       "      <th>37421</th>\n",
       "      <td>zzxPZwaA-8w</td>\n",
       "      <td>Gareth Bale brace secures dramatic comeback on...</td>\n",
       "      <td>UCEg25rdRZXg32iwai6N6l0w</td>\n",
       "      <td>Tottenham Hotspur</td>\n",
       "      <td>2021-05-23 21:00:31</td>\n",
       "      <td>2252090</td>\n",
       "      <td>34063</td>\n",
       "      <td>868</td>\n",
       "      <td>2004</td>\n",
       "      <td>Spurs Tottenham Hotspur   Tottenham Leicester ...</td>\n",
       "      <td>Two minute highlights from Tottenham Hotspur's...</td>\n",
       "      <td>Thank you Kane for everything you have given t...</td>\n",
       "    </tr>\n",
       "  </tbody>\n",
       "</table>\n",
       "</div>"
      ],
      "text/plain": [
       "          video_id                                              title  \\\n",
       "37417  zzd4ydafGR0  Lil Tjay - Calling My Phone (feat. 6LACK) [Off...   \n",
       "37418  zziBybeSAtw  PELICANS at LAKERS | FULL GAME HIGHLIGHTS | Ja...   \n",
       "37419  zzk09ESX7e0                 [MV]  (MAMAMOO) - Where Are We Now   \n",
       "37420  zzmQEb0Em5I              FELLIPE ESCUDERO- Master Podcast  #12   \n",
       "37421  zzxPZwaA-8w  Gareth Bale brace secures dramatic comeback on...   \n",
       "\n",
       "                     channel_id      channel_title         published_at  \\\n",
       "37417  UCEB4a5o_6KfjxHwNMnmj54Q           Lil Tjay  2021-02-12 05:03:49   \n",
       "37418  UCWJ2lWNubArHWmf3FIHbfcQ                NBA  2021-01-16 05:39:05   \n",
       "37419  UCuhAUMLzJxlP1W7mEk0_6lA            MAMAMOO  2021-06-02 09:00:10   \n",
       "37420  UC8NjnNWMsRqq11NYvHAQb1g     Master Podcast  2020-10-20 20:59:30   \n",
       "37421  UCEg25rdRZXg32iwai6N6l0w  Tottenham Hotspur  2021-05-23 21:00:31   \n",
       "\n",
       "       view_count    likes  dislikes  comment_count  \\\n",
       "37417   120408275  2180780     35871          81360   \n",
       "37418     2841917    20759      1049           2624   \n",
       "37419    13346678   720854      4426          90616   \n",
       "37420      252057    19198      1234           1471   \n",
       "37421     2252090    34063       868           2004   \n",
       "\n",
       "                                                    tags  \\\n",
       "37417  Lil Tjay Steady Calling My Phone Calling My Ph...   \n",
       "37418  NBA G League Basketball game-0022000187 Lakers...   \n",
       "37419  MAMAMOO  WAW  WAW MAMAMOO WAW Where Are We Now...   \n",
       "37420  master masterpodcast lord lord vinheteiro z z ...   \n",
       "37421  Spurs Tottenham Hotspur   Tottenham Leicester ...   \n",
       "\n",
       "                                             description  \\\n",
       "37417  Official video for \"Calling My Phone\" by Lil T...   \n",
       "37418  PELICANS at LAKERS | FULL GAME HIGHLIGHTS | Ja...   \n",
       "37419  [MV]  (MAMAMOO) - Where Are We Now\\n\\nInstagra...   \n",
       "37420  DOCTOR HAIR\\nhttps://www.thedoctorhair.com/?fb...   \n",
       "37421  Two minute highlights from Tottenham Hotspur's...   \n",
       "\n",
       "                                                comments  \n",
       "37417  'DESTINED 2 WIN' OUT NOW !! https://liltjay.ln...  \n",
       "37418  Montrezl Harrell is going crazy with the rebou...  \n",
       "37419  I honestly do not know why this song hit so ha...  \n",
       "37420  Foi um prazer passar esta tarde com vocs debat...  \n",
       "37421  Thank you Kane for everything you have given t...  "
      ]
     },
     "execution_count": 4,
     "metadata": {},
     "output_type": "execute_result"
    }
   ],
   "source": [
    "# to retieve bottom five records\n",
    "data.tail()"
   ]
  },
  {
   "cell_type": "markdown",
   "id": "3c18df49",
   "metadata": {},
   "source": [
    "### 2. Check the info of the dataframe and write your inferences on data types and shape of the dataset."
   ]
  },
  {
   "cell_type": "code",
   "execution_count": 5,
   "id": "44066bf7",
   "metadata": {},
   "outputs": [
    {
     "name": "stdout",
     "output_type": "stream",
     "text": [
      "<class 'pandas.core.frame.DataFrame'>\n",
      "RangeIndex: 37422 entries, 0 to 37421\n",
      "Data columns (total 12 columns):\n",
      " #   Column         Non-Null Count  Dtype \n",
      "---  ------         --------------  ----- \n",
      " 0   video_id       37422 non-null  object\n",
      " 1   title          37422 non-null  object\n",
      " 2   channel_id     37422 non-null  object\n",
      " 3   channel_title  37422 non-null  object\n",
      " 4   published_at   37422 non-null  object\n",
      " 5   view_count     37422 non-null  int64 \n",
      " 6   likes          37422 non-null  int64 \n",
      " 7   dislikes       37422 non-null  int64 \n",
      " 8   comment_count  37422 non-null  int64 \n",
      " 9   tags           37422 non-null  object\n",
      " 10  description    37422 non-null  object\n",
      " 11  comments       37264 non-null  object\n",
      "dtypes: int64(4), object(8)\n",
      "memory usage: 3.4+ MB\n"
     ]
    }
   ],
   "source": [
    "# to get the info of the dataframe\n",
    "data.info()"
   ]
  },
  {
   "cell_type": "code",
   "execution_count": 6,
   "id": "79942d4f",
   "metadata": {},
   "outputs": [
    {
     "data": {
      "text/plain": [
       "(37422, 12)"
      ]
     },
     "execution_count": 6,
     "metadata": {},
     "output_type": "execute_result"
    }
   ],
   "source": [
    "# to get the shape of the dataframe\n",
    "data.shape"
   ]
  },
  {
   "cell_type": "markdown",
   "id": "e3e4cb39",
   "metadata": {},
   "source": [
    "### Inference"
   ]
  },
  {
   "cell_type": "markdown",
   "id": "27df4850",
   "metadata": {},
   "source": [
    "* There are 12 columns in the dataframe , of which four of them are of type int64 and eigth of them are of type object\n",
    "* Except for comments column, all the other columns do not have any non null values\n",
    "* The shape of the dataframe shows that there are 37,422 rows and 12 columns in the dataset"
   ]
  },
  {
   "cell_type": "markdown",
   "id": "ef48a92b",
   "metadata": {},
   "source": [
    "### 3. Check for the Percentage of the missing values and drop or impute them."
   ]
  },
  {
   "cell_type": "code",
   "execution_count": 7,
   "id": "a755a776",
   "metadata": {},
   "outputs": [
    {
     "data": {
      "text/plain": [
       "video_id           0\n",
       "title              0\n",
       "channel_id         0\n",
       "channel_title      0\n",
       "published_at       0\n",
       "view_count         0\n",
       "likes              0\n",
       "dislikes           0\n",
       "comment_count      0\n",
       "tags               0\n",
       "description        0\n",
       "comments         158\n",
       "dtype: int64"
      ]
     },
     "execution_count": 7,
     "metadata": {},
     "output_type": "execute_result"
    }
   ],
   "source": [
    "# to check for sum of missing values in each column of the dataframe\n",
    "data.isnull().sum()"
   ]
  },
  {
   "cell_type": "code",
   "execution_count": 8,
   "id": "2eae59f2",
   "metadata": {},
   "outputs": [
    {
     "data": {
      "text/plain": [
       "video_id         0.000000\n",
       "title            0.000000\n",
       "channel_id       0.000000\n",
       "channel_title    0.000000\n",
       "published_at     0.000000\n",
       "view_count       0.000000\n",
       "likes            0.000000\n",
       "dislikes         0.000000\n",
       "comment_count    0.000000\n",
       "tags             0.000000\n",
       "description      0.000000\n",
       "comments         0.422212\n",
       "dtype: float64"
      ]
     },
     "execution_count": 8,
     "metadata": {},
     "output_type": "execute_result"
    }
   ],
   "source": [
    "# to find the percentage of missing values in each column\n",
    "data.isnull().sum()/len(data)*100"
   ]
  },
  {
   "cell_type": "code",
   "execution_count": 9,
   "id": "88567091",
   "metadata": {},
   "outputs": [
    {
     "data": {
      "text/plain": [
       "0.035184294443553706"
      ]
     },
     "execution_count": 9,
     "metadata": {},
     "output_type": "execute_result"
    }
   ],
   "source": [
    "# to find the overall percentage of missing values in the entire dataframe\n",
    "(data.isnull().sum().sum()/ (len(data) * 12)) * 100"
   ]
  },
  {
   "cell_type": "code",
   "execution_count": 10,
   "id": "11c79c31",
   "metadata": {
    "scrolled": true
   },
   "outputs": [
    {
     "data": {
      "text/html": [
       "<div>\n",
       "<style scoped>\n",
       "    .dataframe tbody tr th:only-of-type {\n",
       "        vertical-align: middle;\n",
       "    }\n",
       "\n",
       "    .dataframe tbody tr th {\n",
       "        vertical-align: top;\n",
       "    }\n",
       "\n",
       "    .dataframe thead th {\n",
       "        text-align: right;\n",
       "    }\n",
       "</style>\n",
       "<table border=\"1\" class=\"dataframe\">\n",
       "  <thead>\n",
       "    <tr style=\"text-align: right;\">\n",
       "      <th></th>\n",
       "      <th>video_id</th>\n",
       "      <th>title</th>\n",
       "      <th>channel_id</th>\n",
       "      <th>channel_title</th>\n",
       "      <th>published_at</th>\n",
       "      <th>view_count</th>\n",
       "      <th>likes</th>\n",
       "      <th>dislikes</th>\n",
       "      <th>comment_count</th>\n",
       "      <th>tags</th>\n",
       "      <th>description</th>\n",
       "      <th>comments</th>\n",
       "    </tr>\n",
       "  </thead>\n",
       "  <tbody>\n",
       "    <tr>\n",
       "      <th>344</th>\n",
       "      <td>-bZxO5Dn9x0</td>\n",
       "      <td>LEGO Star Wars Holiday Special | Official Trai...</td>\n",
       "      <td>UCZGYJFUizSax-yElQaFDp5Q</td>\n",
       "      <td>Star Wars</td>\n",
       "      <td>2020-11-05 14:00:43</td>\n",
       "      <td>1236365</td>\n",
       "      <td>44348</td>\n",
       "      <td>2259</td>\n",
       "      <td>0</td>\n",
       "      <td></td>\n",
       "      <td>The LEGO Star Wars Holiday Special reunites Re...</td>\n",
       "      <td>NaN</td>\n",
       "    </tr>\n",
       "    <tr>\n",
       "      <th>418</th>\n",
       "      <td>-jdVyvuFC0A</td>\n",
       "      <td>The National Lottery Lotto' draw results from ...</td>\n",
       "      <td>UCnOiv4Hp3fu43NDHl335cvQ</td>\n",
       "      <td>The National Lottery</td>\n",
       "      <td>2021-05-12 19:04:37</td>\n",
       "      <td>83155</td>\n",
       "      <td>184</td>\n",
       "      <td>39</td>\n",
       "      <td>0</td>\n",
       "      <td>Lotto National Lottery The National Lottery Lo...</td>\n",
       "      <td>The National Lottery draw results for Lotto re...</td>\n",
       "      <td>NaN</td>\n",
       "    </tr>\n",
       "    <tr>\n",
       "      <th>477</th>\n",
       "      <td>-qTCT6nLbWo</td>\n",
       "      <td>The National Lottery Lotto' draw results from ...</td>\n",
       "      <td>UCnOiv4Hp3fu43NDHl335cvQ</td>\n",
       "      <td>The National Lottery</td>\n",
       "      <td>2021-01-30 19:48:30</td>\n",
       "      <td>135946</td>\n",
       "      <td>263</td>\n",
       "      <td>138</td>\n",
       "      <td>0</td>\n",
       "      <td>Lotto National Lottery The National Lottery Lo...</td>\n",
       "      <td>The National Lottery draw results for Lotto re...</td>\n",
       "      <td>NaN</td>\n",
       "    </tr>\n",
       "    <tr>\n",
       "      <th>720</th>\n",
       "      <td>0IE1TVLH7eI</td>\n",
       "      <td>Amoureuse</td>\n",
       "      <td>UCntsZ2Irpt7Nc_-tNJmCtmA</td>\n",
       "      <td>Yanns - Topic</td>\n",
       "      <td>2021-09-02 10:01:23</td>\n",
       "      <td>2177257</td>\n",
       "      <td>21450</td>\n",
       "      <td>722</td>\n",
       "      <td>0</td>\n",
       "      <td>Yanns Noodels Marco Bressan Yannick Schweitzer...</td>\n",
       "      <td>Provided to YouTube by Believe SAS\\n\\nAmoureus...</td>\n",
       "      <td>NaN</td>\n",
       "    </tr>\n",
       "    <tr>\n",
       "      <th>727</th>\n",
       "      <td>0JFhV5sBUYo</td>\n",
       "      <td>Meu Corao Me Odeia</td>\n",
       "      <td>UCJltSNle2RK9jtOUuSdREZw</td>\n",
       "      <td>Taty Girl - Topic</td>\n",
       "      <td>2021-08-12 10:02:02</td>\n",
       "      <td>280350</td>\n",
       "      <td>3153</td>\n",
       "      <td>133</td>\n",
       "      <td>0</td>\n",
       "      <td>Taty Girl Wesley Safado Meu Corao Me Odeia</td>\n",
       "      <td>Provided to YouTube by Potencia Music\\n\\nMeu C...</td>\n",
       "      <td>NaN</td>\n",
       "    </tr>\n",
       "    <tr>\n",
       "      <th>...</th>\n",
       "      <td>...</td>\n",
       "      <td>...</td>\n",
       "      <td>...</td>\n",
       "      <td>...</td>\n",
       "      <td>...</td>\n",
       "      <td>...</td>\n",
       "      <td>...</td>\n",
       "      <td>...</td>\n",
       "      <td>...</td>\n",
       "      <td>...</td>\n",
       "      <td>...</td>\n",
       "      <td>...</td>\n",
       "    </tr>\n",
       "    <tr>\n",
       "      <th>35720</th>\n",
       "      <td>x7WtabxoTdQ</td>\n",
       "      <td>:BTSFilm out 90202142</td>\n",
       "      <td>UCTDMT3aL30noTVFgNPA9XtQ</td>\n",
       "      <td>MOVIE</td>\n",
       "      <td>2021-02-15 19:00:12</td>\n",
       "      <td>2275095</td>\n",
       "      <td>96958</td>\n",
       "      <td>552</td>\n",
       "      <td>0</td>\n",
       "      <td>STUDIO DRAGON ASTORY              BTS...</td>\n",
       "      <td>90\\nBTSFilm out\\nback number\\n\\nFilm outback ...</td>\n",
       "      <td>NaN</td>\n",
       "    </tr>\n",
       "    <tr>\n",
       "      <th>36335</th>\n",
       "      <td>yBfamIFpucw</td>\n",
       "      <td>A QUEDA</td>\n",
       "      <td>UCCt8cGO1NfZgi0XO_kbsesw</td>\n",
       "      <td>Gloria Groove - Topic</td>\n",
       "      <td>2021-10-15 00:01:42</td>\n",
       "      <td>4890598</td>\n",
       "      <td>119549</td>\n",
       "      <td>5154</td>\n",
       "      <td>0</td>\n",
       "      <td>Gloria Groove Lukinhas Pablo Bispo Ruxell A QUEDA</td>\n",
       "      <td>Provided to YouTube by The Orchard Enterprises...</td>\n",
       "      <td>NaN</td>\n",
       "    </tr>\n",
       "    <tr>\n",
       "      <th>36669</th>\n",
       "      <td>yiWErhQbUho</td>\n",
       "      <td>Hanuman Chalisa I GULSHAN KUMAR I HARIHARAN,...</td>\n",
       "      <td>UCaayLD9i5x4MmIoVZxXSv_g</td>\n",
       "      <td>T-Series Bhakti Sagar</td>\n",
       "      <td>2021-01-05 00:30:03</td>\n",
       "      <td>446713</td>\n",
       "      <td>8561</td>\n",
       "      <td>1047</td>\n",
       "      <td>857</td>\n",
       "      <td>Hanuman Chalisa Hanuman Chalisa Gulshan Kumar ...</td>\n",
       "      <td>SUBSCRIBE:http://www.youtube.com/tseriesbhakti...</td>\n",
       "      <td>NaN</td>\n",
       "    </tr>\n",
       "    <tr>\n",
       "      <th>36701</th>\n",
       "      <td>ylPCxAwqTLk</td>\n",
       "      <td>.  2 -  2D |   |  2021!</td>\n",
       "      <td>UC5A-Wp9ujcr5g9sYagAafEA</td>\n",
       "      <td>TVSmeshariki</td>\n",
       "      <td>2021-08-06 11:59:34</td>\n",
       "      <td>693473</td>\n",
       "      <td>8237</td>\n",
       "      <td>783</td>\n",
       "      <td>0</td>\n",
       "      <td>2  2d                2d             ...</td>\n",
       "      <td>:      .    ,   .    ,  .    ,  -  .  ,     ...</td>\n",
       "      <td>NaN</td>\n",
       "    </tr>\n",
       "    <tr>\n",
       "      <th>36981</th>\n",
       "      <td>zCkfx65Vjw4</td>\n",
       "      <td>. Broken Vow -   - . -  8</td>\n",
       "      <td>UCXBIIbGe37lKXFHdM050f2w</td>\n",
       "      <td>The Voice Kids Russia/</td>\n",
       "      <td>2021-02-12 20:37:11</td>\n",
       "      <td>665998</td>\n",
       "      <td>15913</td>\n",
       "      <td>225</td>\n",
       "      <td>0</td>\n",
       "      <td>the voice kids                    7  7   ...</td>\n",
       "      <td>Broken Vow.     Lara Fabian 1999 .       ...</td>\n",
       "      <td>NaN</td>\n",
       "    </tr>\n",
       "  </tbody>\n",
       "</table>\n",
       "<p>158 rows × 12 columns</p>\n",
       "</div>"
      ],
      "text/plain": [
       "          video_id                                              title  \\\n",
       "344    -bZxO5Dn9x0  LEGO Star Wars Holiday Special | Official Trai...   \n",
       "418    -jdVyvuFC0A  The National Lottery Lotto' draw results from ...   \n",
       "477    -qTCT6nLbWo  The National Lottery Lotto' draw results from ...   \n",
       "720    0IE1TVLH7eI                                          Amoureuse   \n",
       "727    0JFhV5sBUYo                                 Meu Corao Me Odeia   \n",
       "...            ...                                                ...   \n",
       "35720  x7WtabxoTdQ                              :BTSFilm out 90202142   \n",
       "36335  yBfamIFpucw                                            A QUEDA   \n",
       "36669  yiWErhQbUho    Hanuman Chalisa I GULSHAN KUMAR I HARIHARAN,...   \n",
       "36701  ylPCxAwqTLk                            .  2 -  2D |   |  2021!   \n",
       "36981  zCkfx65Vjw4                          . Broken Vow -   - . -  8   \n",
       "\n",
       "                     channel_id            channel_title         published_at  \\\n",
       "344    UCZGYJFUizSax-yElQaFDp5Q                Star Wars  2020-11-05 14:00:43   \n",
       "418    UCnOiv4Hp3fu43NDHl335cvQ     The National Lottery  2021-05-12 19:04:37   \n",
       "477    UCnOiv4Hp3fu43NDHl335cvQ     The National Lottery  2021-01-30 19:48:30   \n",
       "720    UCntsZ2Irpt7Nc_-tNJmCtmA            Yanns - Topic  2021-09-02 10:01:23   \n",
       "727    UCJltSNle2RK9jtOUuSdREZw        Taty Girl - Topic  2021-08-12 10:02:02   \n",
       "...                         ...                      ...                  ...   \n",
       "35720  UCTDMT3aL30noTVFgNPA9XtQ                    MOVIE  2021-02-15 19:00:12   \n",
       "36335  UCCt8cGO1NfZgi0XO_kbsesw    Gloria Groove - Topic  2021-10-15 00:01:42   \n",
       "36669  UCaayLD9i5x4MmIoVZxXSv_g    T-Series Bhakti Sagar  2021-01-05 00:30:03   \n",
       "36701  UC5A-Wp9ujcr5g9sYagAafEA             TVSmeshariki  2021-08-06 11:59:34   \n",
       "36981  UCXBIIbGe37lKXFHdM050f2w  The Voice Kids Russia/   2021-02-12 20:37:11   \n",
       "\n",
       "       view_count   likes  dislikes  comment_count  \\\n",
       "344       1236365   44348      2259              0   \n",
       "418         83155     184        39              0   \n",
       "477        135946     263       138              0   \n",
       "720       2177257   21450       722              0   \n",
       "727        280350    3153       133              0   \n",
       "...           ...     ...       ...            ...   \n",
       "35720     2275095   96958       552              0   \n",
       "36335     4890598  119549      5154              0   \n",
       "36669      446713    8561      1047            857   \n",
       "36701      693473    8237       783              0   \n",
       "36981      665998   15913       225              0   \n",
       "\n",
       "                                                    tags  \\\n",
       "344                                                        \n",
       "418    Lotto National Lottery The National Lottery Lo...   \n",
       "477    Lotto National Lottery The National Lottery Lo...   \n",
       "720    Yanns Noodels Marco Bressan Yannick Schweitzer...   \n",
       "727           Taty Girl Wesley Safado Meu Corao Me Odeia   \n",
       "...                                                  ...   \n",
       "35720           STUDIO DRAGON ASTORY              BTS...   \n",
       "36335  Gloria Groove Lukinhas Pablo Bispo Ruxell A QUEDA   \n",
       "36669  Hanuman Chalisa Hanuman Chalisa Gulshan Kumar ...   \n",
       "36701            2  2d                2d             ...   \n",
       "36981       the voice kids                    7  7   ...   \n",
       "\n",
       "                                             description comments  \n",
       "344    The LEGO Star Wars Holiday Special reunites Re...      NaN  \n",
       "418    The National Lottery draw results for Lotto re...      NaN  \n",
       "477    The National Lottery draw results for Lotto re...      NaN  \n",
       "720    Provided to YouTube by Believe SAS\\n\\nAmoureus...      NaN  \n",
       "727    Provided to YouTube by Potencia Music\\n\\nMeu C...      NaN  \n",
       "...                                                  ...      ...  \n",
       "35720   90\\nBTSFilm out\\nback number\\n\\nFilm outback ...      NaN  \n",
       "36335  Provided to YouTube by The Orchard Enterprises...      NaN  \n",
       "36669  SUBSCRIBE:http://www.youtube.com/tseriesbhakti...      NaN  \n",
       "36701    :      .    ,   .    ,  .    ,  -  .  ,     ...      NaN  \n",
       "36981       Broken Vow.     Lara Fabian 1999 .       ...      NaN  \n",
       "\n",
       "[158 rows x 12 columns]"
      ]
     },
     "execution_count": 10,
     "metadata": {},
     "output_type": "execute_result"
    }
   ],
   "source": [
    "# to check the missing values in comment column\n",
    "data[data.comments.isnull()]"
   ]
  },
  {
   "cell_type": "markdown",
   "id": "dcbe3643",
   "metadata": {},
   "source": [
    "* There are 158 missing values in comments column, and they cannot be dropped as they are having important data in other columns, so we have to impute them instead of dropping all those rows"
   ]
  },
  {
   "cell_type": "code",
   "execution_count": 11,
   "id": "65f14d08",
   "metadata": {},
   "outputs": [],
   "source": [
    "# imputing the missing values with 'no comments'\n",
    "data['comments'].fillna('No comments',inplace=True)"
   ]
  },
  {
   "cell_type": "code",
   "execution_count": 12,
   "id": "e3be6d75",
   "metadata": {},
   "outputs": [
    {
     "data": {
      "text/plain": [
       "0"
      ]
     },
     "execution_count": 12,
     "metadata": {},
     "output_type": "execute_result"
    }
   ],
   "source": [
    "# checking for missing values after imputation\n",
    "data.comments.isnull().sum()"
   ]
  },
  {
   "cell_type": "markdown",
   "id": "024c7423",
   "metadata": {},
   "source": [
    "### 4. Check the statistical summary of both numerical and categorical columns and write your inferences."
   ]
  },
  {
   "cell_type": "code",
   "execution_count": 13,
   "id": "21d2adef",
   "metadata": {},
   "outputs": [
    {
     "data": {
      "text/html": [
       "<div>\n",
       "<style scoped>\n",
       "    .dataframe tbody tr th:only-of-type {\n",
       "        vertical-align: middle;\n",
       "    }\n",
       "\n",
       "    .dataframe tbody tr th {\n",
       "        vertical-align: top;\n",
       "    }\n",
       "\n",
       "    .dataframe thead th {\n",
       "        text-align: right;\n",
       "    }\n",
       "</style>\n",
       "<table border=\"1\" class=\"dataframe\">\n",
       "  <thead>\n",
       "    <tr style=\"text-align: right;\">\n",
       "      <th></th>\n",
       "      <th>count</th>\n",
       "      <th>unique</th>\n",
       "      <th>top</th>\n",
       "      <th>freq</th>\n",
       "    </tr>\n",
       "  </thead>\n",
       "  <tbody>\n",
       "    <tr>\n",
       "      <th>video_id</th>\n",
       "      <td>37422</td>\n",
       "      <td>37422</td>\n",
       "      <td>--0bCF-iK2E</td>\n",
       "      <td>1</td>\n",
       "    </tr>\n",
       "    <tr>\n",
       "      <th>title</th>\n",
       "      <td>37422</td>\n",
       "      <td>37113</td>\n",
       "      <td>www</td>\n",
       "      <td>21</td>\n",
       "    </tr>\n",
       "    <tr>\n",
       "      <th>channel_id</th>\n",
       "      <td>37422</td>\n",
       "      <td>10961</td>\n",
       "      <td>UCNAf1k0yIjyGu3k9BwAg3lg</td>\n",
       "      <td>533</td>\n",
       "    </tr>\n",
       "    <tr>\n",
       "      <th>channel_title</th>\n",
       "      <td>37422</td>\n",
       "      <td>10883</td>\n",
       "      <td>Sky Sports Football</td>\n",
       "      <td>533</td>\n",
       "    </tr>\n",
       "    <tr>\n",
       "      <th>published_at</th>\n",
       "      <td>37422</td>\n",
       "      <td>36772</td>\n",
       "      <td>2020-10-16 04:00:10</td>\n",
       "      <td>6</td>\n",
       "    </tr>\n",
       "    <tr>\n",
       "      <th>tags</th>\n",
       "      <td>37422</td>\n",
       "      <td>28799</td>\n",
       "      <td></td>\n",
       "      <td>3817</td>\n",
       "    </tr>\n",
       "    <tr>\n",
       "      <th>description</th>\n",
       "      <td>37422</td>\n",
       "      <td>35630</td>\n",
       "      <td></td>\n",
       "      <td>589</td>\n",
       "    </tr>\n",
       "    <tr>\n",
       "      <th>comments</th>\n",
       "      <td>37422</td>\n",
       "      <td>37265</td>\n",
       "      <td>No comments</td>\n",
       "      <td>158</td>\n",
       "    </tr>\n",
       "  </tbody>\n",
       "</table>\n",
       "</div>"
      ],
      "text/plain": [
       "               count unique                       top  freq\n",
       "video_id       37422  37422               --0bCF-iK2E     1\n",
       "title          37422  37113                       www    21\n",
       "channel_id     37422  10961  UCNAf1k0yIjyGu3k9BwAg3lg   533\n",
       "channel_title  37422  10883       Sky Sports Football   533\n",
       "published_at   37422  36772       2020-10-16 04:00:10     6\n",
       "tags           37422  28799                            3817\n",
       "description    37422  35630                             589\n",
       "comments       37422  37265               No comments   158"
      ]
     },
     "execution_count": 13,
     "metadata": {},
     "output_type": "execute_result"
    }
   ],
   "source": [
    "# to check the statistical summary of categorical columns\n",
    "data.describe(include='object').T"
   ]
  },
  {
   "cell_type": "markdown",
   "id": "48c3634a",
   "metadata": {},
   "source": [
    "### Inference"
   ]
  },
  {
   "cell_type": "markdown",
   "id": "a232bddf",
   "metadata": {},
   "source": [
    "* From the statistical summmary of categorical columns, it is observed that:"
   ]
  },
  {
   "cell_type": "markdown",
   "id": "8a975978",
   "metadata": {},
   "source": [
    "    * There are 37,422 unique video_id which means each video is having unique id \n",
    "    * There are 37,113 unique title and most frequent title of video is www\n",
    "    * There are 10,961 unique channel_id and most frequent channel_id is UCNAf1k0yIjyGu3k9BwAg3lg with frequency 533\n",
    "    * There are 10,883 unique channel_title and most frequent is Sky Sports Football with frequency 533\n",
    "    * There are 36,772 unique published_at and most frequent is published at 2020-10-16 04:00:10 with frequency\t6\n",
    "    * There are 28,799 unique tags\n",
    "    * There are 35,630 unique description\n",
    "    * There are 37,265 unique comments, due to imputation, most frequent comment is no comments"
   ]
  },
  {
   "cell_type": "code",
   "execution_count": 14,
   "id": "0707e49e",
   "metadata": {},
   "outputs": [
    {
     "data": {
      "text/html": [
       "<div>\n",
       "<style scoped>\n",
       "    .dataframe tbody tr th:only-of-type {\n",
       "        vertical-align: middle;\n",
       "    }\n",
       "\n",
       "    .dataframe tbody tr th {\n",
       "        vertical-align: top;\n",
       "    }\n",
       "\n",
       "    .dataframe thead th {\n",
       "        text-align: right;\n",
       "    }\n",
       "</style>\n",
       "<table border=\"1\" class=\"dataframe\">\n",
       "  <thead>\n",
       "    <tr style=\"text-align: right;\">\n",
       "      <th></th>\n",
       "      <th>count</th>\n",
       "      <th>mean</th>\n",
       "      <th>std</th>\n",
       "      <th>min</th>\n",
       "      <th>25%</th>\n",
       "      <th>50%</th>\n",
       "      <th>75%</th>\n",
       "      <th>max</th>\n",
       "    </tr>\n",
       "  </thead>\n",
       "  <tbody>\n",
       "    <tr>\n",
       "      <th>view_count</th>\n",
       "      <td>37422.0</td>\n",
       "      <td>5.697838e+06</td>\n",
       "      <td>2.426622e+07</td>\n",
       "      <td>20368.0</td>\n",
       "      <td>512297.0</td>\n",
       "      <td>1319078.5</td>\n",
       "      <td>3670231.25</td>\n",
       "      <td>1.322797e+09</td>\n",
       "    </tr>\n",
       "    <tr>\n",
       "      <th>likes</th>\n",
       "      <td>37422.0</td>\n",
       "      <td>1.668147e+05</td>\n",
       "      <td>5.375670e+05</td>\n",
       "      <td>0.0</td>\n",
       "      <td>13233.5</td>\n",
       "      <td>42330.5</td>\n",
       "      <td>130469.75</td>\n",
       "      <td>3.183768e+07</td>\n",
       "    </tr>\n",
       "    <tr>\n",
       "      <th>dislikes</th>\n",
       "      <td>37422.0</td>\n",
       "      <td>4.989862e+03</td>\n",
       "      <td>3.070824e+04</td>\n",
       "      <td>0.0</td>\n",
       "      <td>281.0</td>\n",
       "      <td>796.0</td>\n",
       "      <td>2461.75</td>\n",
       "      <td>2.397733e+06</td>\n",
       "    </tr>\n",
       "    <tr>\n",
       "      <th>comment_count</th>\n",
       "      <td>37422.0</td>\n",
       "      <td>9.924930e+03</td>\n",
       "      <td>1.171003e+05</td>\n",
       "      <td>0.0</td>\n",
       "      <td>900.0</td>\n",
       "      <td>2328.0</td>\n",
       "      <td>6184.00</td>\n",
       "      <td>1.607103e+07</td>\n",
       "    </tr>\n",
       "  </tbody>\n",
       "</table>\n",
       "</div>"
      ],
      "text/plain": [
       "                 count          mean           std      min       25%  \\\n",
       "view_count     37422.0  5.697838e+06  2.426622e+07  20368.0  512297.0   \n",
       "likes          37422.0  1.668147e+05  5.375670e+05      0.0   13233.5   \n",
       "dislikes       37422.0  4.989862e+03  3.070824e+04      0.0     281.0   \n",
       "comment_count  37422.0  9.924930e+03  1.171003e+05      0.0     900.0   \n",
       "\n",
       "                     50%         75%           max  \n",
       "view_count     1319078.5  3670231.25  1.322797e+09  \n",
       "likes            42330.5   130469.75  3.183768e+07  \n",
       "dislikes           796.0     2461.75  2.397733e+06  \n",
       "comment_count     2328.0     6184.00  1.607103e+07  "
      ]
     },
     "execution_count": 14,
     "metadata": {},
     "output_type": "execute_result"
    }
   ],
   "source": [
    "# to check the statistical summary of numerical columns\n",
    "data.describe().T"
   ]
  },
  {
   "cell_type": "markdown",
   "id": "dcdd4544",
   "metadata": {},
   "source": [
    "### Inference"
   ]
  },
  {
   "cell_type": "markdown",
   "id": "a0bc8441",
   "metadata": {},
   "source": [
    "* From the statistical summmary of numerical columns, it is observed that:"
   ]
  },
  {
   "cell_type": "markdown",
   "id": "c9d6c682",
   "metadata": {},
   "source": [
    "    * The mean of view_count is 5.697838e+06,which is greater than median 1319078.5,so the distribution is positively skewed\n",
    "    * The mean of likes is 1.668147e+05, which is greater than the median 42330.5, so the distribution is positively skewed\n",
    "    * The mean of dislikes is 4989.862 which is greater than the median 796, so the diatribution is positively skewed\n",
    "    * The mean of comment_count is 9924.930, which is greater than the median 2328, so the distribution is positively skewed"
   ]
  },
  {
   "cell_type": "markdown",
   "id": "8ffd6d9e",
   "metadata": {},
   "source": [
    "* It is noted that the standard deviation of all the numerical columns is very large, so the data spread is very large and also it is seen that the minimum value of likes, dislikes and comment_count is 0, so they are highly positively skewed."
   ]
  },
  {
   "cell_type": "markdown",
   "id": "adc99e20",
   "metadata": {},
   "source": [
    "### 5. Convert datatype of column published_at from object to pandas datetime"
   ]
  },
  {
   "cell_type": "code",
   "execution_count": 15,
   "id": "cf9a37d4",
   "metadata": {},
   "outputs": [],
   "source": [
    "# to convert the datatype of column published_at from object to pandas datetime\n",
    "data['published_at'] = pd.to_datetime(data['published_at'])"
   ]
  },
  {
   "cell_type": "code",
   "execution_count": 16,
   "id": "18d711e2",
   "metadata": {},
   "outputs": [
    {
     "data": {
      "text/plain": [
       "0   2021-07-01 10:00:00\n",
       "1   2021-06-10 16:00:00\n",
       "2   2021-09-20 01:03:32\n",
       "3   2021-03-03 10:00:17\n",
       "4   2021-12-07 13:00:00\n",
       "Name: published_at, dtype: datetime64[ns]"
      ]
     },
     "execution_count": 16,
     "metadata": {},
     "output_type": "execute_result"
    }
   ],
   "source": [
    "# to view the first five data in the published_at column after converting to datetime data type\n",
    "data['published_at'].head()"
   ]
  },
  {
   "cell_type": "markdown",
   "id": "f11dd738",
   "metadata": {},
   "source": [
    "### 6. Create a new column as 'published_month' using the column published_at (display the months only)"
   ]
  },
  {
   "cell_type": "code",
   "execution_count": 17,
   "id": "b4cfbaa0",
   "metadata": {},
   "outputs": [],
   "source": [
    "# To create a new column 'published_month' from the column published_at using dt.month from datetime module \n",
    "data['published_month'] = data['published_at'].dt.month"
   ]
  },
  {
   "cell_type": "code",
   "execution_count": 18,
   "id": "2504e59f",
   "metadata": {},
   "outputs": [
    {
     "data": {
      "text/plain": [
       "0     7\n",
       "1     6\n",
       "2     9\n",
       "3     3\n",
       "4    12\n",
       "Name: published_month, dtype: int64"
      ]
     },
     "execution_count": 18,
     "metadata": {},
     "output_type": "execute_result"
    }
   ],
   "source": [
    "# To view the first five data in the new column published_month after creating it\n",
    "data['published_month'].head()"
   ]
  },
  {
   "cell_type": "markdown",
   "id": "dec9f24d",
   "metadata": {},
   "source": [
    "### 7. Replace the numbers in the column published_month as names of the months i,e., 1 as 'Jan', 2 as 'Feb' and so on....."
   ]
  },
  {
   "cell_type": "code",
   "execution_count": 19,
   "id": "e143f4d2",
   "metadata": {},
   "outputs": [],
   "source": [
    "# To convert the months number in published_month to month name using calendar.month_abbr from calendar module\n",
    "data['published_month'] = data['published_month'].apply(lambda x: calendar.month_abbr[x])"
   ]
  },
  {
   "cell_type": "code",
   "execution_count": 20,
   "id": "e0217f6b",
   "metadata": {},
   "outputs": [
    {
     "data": {
      "text/plain": [
       "0    Jul\n",
       "1    Jun\n",
       "2    Sep\n",
       "3    Mar\n",
       "4    Dec\n",
       "Name: published_month, dtype: object"
      ]
     },
     "execution_count": 20,
     "metadata": {},
     "output_type": "execute_result"
    }
   ],
   "source": [
    "# to view the first five data in the column published_month after converting to month name from month number\n",
    "data['published_month'].head()"
   ]
  },
  {
   "cell_type": "markdown",
   "id": "b75d4aec",
   "metadata": {},
   "source": [
    "### 8. Find the number of videos published each month and arrange the months in a decreasing order based on the video count.\n"
   ]
  },
  {
   "cell_type": "code",
   "execution_count": 21,
   "id": "6633a5a6",
   "metadata": {},
   "outputs": [
    {
     "data": {
      "text/plain": [
       "Oct    4991\n",
       "Sep    4880\n",
       "Nov    4851\n",
       "Aug    4262\n",
       "Dec    3072\n",
       "Jul    2340\n",
       "Jun    2316\n",
       "Mar    2258\n",
       "Feb    2137\n",
       "Apr    2126\n",
       "Jan    2108\n",
       "May    2081\n",
       "Name: published_month, dtype: int64"
      ]
     },
     "execution_count": 21,
     "metadata": {},
     "output_type": "execute_result"
    }
   ],
   "source": [
    "# To find the number of videos published each month and arrange the months in decreasing order based on video count\n",
    "# we use value_counts() and sort_values() function with ascending as False\n",
    "data['published_month'].value_counts().sort_values(ascending=False)"
   ]
  },
  {
   "cell_type": "markdown",
   "id": "a3ae6f04",
   "metadata": {},
   "source": [
    "### Inference"
   ]
  },
  {
   "cell_type": "markdown",
   "id": "0e076d3f",
   "metadata": {},
   "source": [
    "* It is observed that the October month has more number of videos published which is equal to 4991 and May has least number of videos published which is equal to 2081"
   ]
  },
  {
   "cell_type": "markdown",
   "id": "c8a45eee",
   "metadata": {},
   "source": [
    "### 9. Find the count of unique video_id, channel_id and channel_title."
   ]
  },
  {
   "cell_type": "code",
   "execution_count": 22,
   "id": "2ba0ef4d",
   "metadata": {},
   "outputs": [
    {
     "data": {
      "text/plain": [
       "37422"
      ]
     },
     "execution_count": 22,
     "metadata": {},
     "output_type": "execute_result"
    }
   ],
   "source": [
    "# To find the count of unique video_id\n",
    "data['video_id'].nunique()"
   ]
  },
  {
   "cell_type": "code",
   "execution_count": 23,
   "id": "18f09a3d",
   "metadata": {},
   "outputs": [
    {
     "data": {
      "text/plain": [
       "10961"
      ]
     },
     "execution_count": 23,
     "metadata": {},
     "output_type": "execute_result"
    }
   ],
   "source": [
    "# To find the count of unique channel_id\n",
    "data['channel_id'].nunique()"
   ]
  },
  {
   "cell_type": "code",
   "execution_count": 24,
   "id": "8ce6613c",
   "metadata": {},
   "outputs": [
    {
     "data": {
      "text/plain": [
       "10883"
      ]
     },
     "execution_count": 24,
     "metadata": {},
     "output_type": "execute_result"
    }
   ],
   "source": [
    "# To find the count of unique channel_title\n",
    "data['channel_title'].nunique()"
   ]
  },
  {
   "cell_type": "markdown",
   "id": "ced463a8",
   "metadata": {},
   "source": [
    "### 10. Find the top10 channel names having the highest number of videos in the dataset and the bottom10 having lowest number of videos.\n"
   ]
  },
  {
   "cell_type": "code",
   "execution_count": 25,
   "id": "2863445f",
   "metadata": {},
   "outputs": [
    {
     "data": {
      "text/plain": [
       "Sky Sports Football    533\n",
       "The United Stand       301\n",
       "BT Sport               246\n",
       "NBA                    209\n",
       "NFL                    162\n",
       "WWE                    122\n",
       "SSSniperWolf            99\n",
       "SSundee                 98\n",
       "FORMULA 1               87\n",
       "NHL                     86\n",
       "Name: channel_title, dtype: int64"
      ]
     },
     "execution_count": 25,
     "metadata": {},
     "output_type": "execute_result"
    }
   ],
   "source": [
    "# To find the top 10 channel names having the highest number of videos in the dataset\n",
    "data['channel_title'].value_counts().sort_values(ascending=False).head(10)"
   ]
  },
  {
   "cell_type": "code",
   "execution_count": 26,
   "id": "7fac5d70",
   "metadata": {},
   "outputs": [
    {
     "data": {
      "text/plain": [
       "IAmEzinmaVEVO           1\n",
       "VisitSeoul TV           1\n",
       "StefflonDonVEVO         1\n",
       "SGV Kannada Media       1\n",
       "KHON2 News              1\n",
       "HikacGames              1\n",
       "Android                 1\n",
       "  - SONGCHELIN GUIDE    1\n",
       "SpideyLucas             1\n",
       "Master Podcast          1\n",
       "Name: channel_title, dtype: int64"
      ]
     },
     "execution_count": 26,
     "metadata": {},
     "output_type": "execute_result"
    }
   ],
   "source": [
    "# To find the bottom 10 channel names having the lowest number of videos in the dataset \n",
    "# using the above same formula as ascending as False and viewing the tail\n",
    "data['channel_title'].value_counts().sort_values(ascending=False).tail(10)"
   ]
  },
  {
   "cell_type": "code",
   "execution_count": 27,
   "id": "9825ec00",
   "metadata": {},
   "outputs": [
    {
     "data": {
      "text/plain": [
       "The Masked Man        1\n",
       "L'ALLEMAND            1\n",
       "iTemp Plays           1\n",
       "Kromus                1\n",
       "iamSiddharthaVEVO     1\n",
       "World Snooker Tour    1\n",
       "LilYachtyVEVO         1\n",
       "Crush with Car        1\n",
       "Off The Ball          1\n",
       "Mkfray                1\n",
       "Name: channel_title, dtype: int64"
      ]
     },
     "execution_count": 27,
     "metadata": {},
     "output_type": "execute_result"
    }
   ],
   "source": [
    "# To find the bottom 10 channel names having the lowest number of videos in the dataset\n",
    "# by using descending order\n",
    "data['channel_title'].value_counts().sort_values(ascending=True).head(10)"
   ]
  },
  {
   "cell_type": "markdown",
   "id": "be970511",
   "metadata": {},
   "source": [
    "* It is observed that there are many channels having least number of video as 1, so bottom 10 can be many channels"
   ]
  },
  {
   "cell_type": "markdown",
   "id": "455088f9",
   "metadata": {},
   "source": [
    "### 11. Find the title of the video which has the maximum number of likes and the title of the video having minimum likes and write your inferences."
   ]
  },
  {
   "cell_type": "code",
   "execution_count": 28,
   "id": "1231152c",
   "metadata": {},
   "outputs": [
    {
     "data": {
      "text/html": [
       "<div>\n",
       "<style scoped>\n",
       "    .dataframe tbody tr th:only-of-type {\n",
       "        vertical-align: middle;\n",
       "    }\n",
       "\n",
       "    .dataframe tbody tr th {\n",
       "        vertical-align: top;\n",
       "    }\n",
       "\n",
       "    .dataframe thead th {\n",
       "        text-align: right;\n",
       "    }\n",
       "</style>\n",
       "<table border=\"1\" class=\"dataframe\">\n",
       "  <thead>\n",
       "    <tr style=\"text-align: right;\">\n",
       "      <th></th>\n",
       "      <th>likes</th>\n",
       "    </tr>\n",
       "    <tr>\n",
       "      <th>title</th>\n",
       "      <th></th>\n",
       "    </tr>\n",
       "  </thead>\n",
       "  <tbody>\n",
       "    <tr>\n",
       "      <th>BTS () 'Dynamite' Official MV</th>\n",
       "      <td>31837675</td>\n",
       "    </tr>\n",
       "    <tr>\n",
       "      <th>BTS () 'Butter' Official MV</th>\n",
       "      <td>20649409</td>\n",
       "    </tr>\n",
       "    <tr>\n",
       "      <th>BLACKPINK - 'Ice Cream (with Selena Gomez)' M/V</th>\n",
       "      <td>17864527</td>\n",
       "    </tr>\n",
       "    <tr>\n",
       "      <th>BTS () 'Life Goes On' Official MV</th>\n",
       "      <td>16354127</td>\n",
       "    </tr>\n",
       "    <tr>\n",
       "      <th>BTS () 'Permission to Dance' Official MV</th>\n",
       "      <td>15449003</td>\n",
       "    </tr>\n",
       "    <tr>\n",
       "      <th>...</th>\n",
       "      <td>...</td>\n",
       "    </tr>\n",
       "    <tr>\n",
       "      <th>Virtual Pub Quiz, Live! Saturday 12th December</th>\n",
       "      <td>97</td>\n",
       "    </tr>\n",
       "    <tr>\n",
       "      <th>Small Business Loans from OnDeck</th>\n",
       "      <td>29</td>\n",
       "    </tr>\n",
       "    <tr>\n",
       "      <th>Tims For Good: A Taste Of The Familiar</th>\n",
       "      <td>28</td>\n",
       "    </tr>\n",
       "    <tr>\n",
       "      <th>Leading the Charge | Circle K</th>\n",
       "      <td>22</td>\n",
       "    </tr>\n",
       "    <tr>\n",
       "      <th>Kim Kardashian's Must-See Moments on \"Saturday Night Live\" | E! News</th>\n",
       "      <td>0</td>\n",
       "    </tr>\n",
       "  </tbody>\n",
       "</table>\n",
       "<p>37113 rows × 1 columns</p>\n",
       "</div>"
      ],
      "text/plain": [
       "                                                       likes\n",
       "title                                                       \n",
       "BTS () 'Dynamite' Official MV                       31837675\n",
       "BTS () 'Butter' Official MV                         20649409\n",
       "BLACKPINK - 'Ice Cream (with Selena Gomez)' M/V     17864527\n",
       "BTS () 'Life Goes On' Official MV                   16354127\n",
       "BTS () 'Permission to Dance' Official MV            15449003\n",
       "...                                                      ...\n",
       "Virtual Pub Quiz, Live! Saturday 12th December            97\n",
       "Small Business Loans from OnDeck                          29\n",
       "Tims For Good: A Taste Of The Familiar                    28\n",
       "Leading the Charge | Circle K                             22\n",
       "Kim Kardashian's Must-See Moments on \"Saturday ...         0\n",
       "\n",
       "[37113 rows x 1 columns]"
      ]
     },
     "execution_count": 28,
     "metadata": {},
     "output_type": "execute_result"
    }
   ],
   "source": [
    "# to find the title of the video which has the maximum number of likes and the title of video having minimum likes\n",
    "# we use pd.pivot_table with title as index and values as likes and sum the likes\n",
    "pd.pivot_table(data,index='title',values='likes',aggfunc=np.sum).sort_values(ascending=False,by='likes')"
   ]
  },
  {
   "cell_type": "markdown",
   "id": "5134ac27",
   "metadata": {},
   "source": [
    "### Inference"
   ]
  },
  {
   "cell_type": "markdown",
   "id": "99064ba7",
   "metadata": {},
   "source": [
    "* It is observed that the title of the video with maximum number of likes is that of BTS () 'Dynamite' Official MV having 31837675 likes"
   ]
  },
  {
   "cell_type": "markdown",
   "id": "aa8a6675",
   "metadata": {},
   "source": [
    "* It is observed that the title of the video with minimum number of likes is that of Kim Kardashian's Must-See Moments on \"Saturday Night Live\" | E! News with 0 like"
   ]
  },
  {
   "cell_type": "markdown",
   "id": "6b93544b",
   "metadata": {},
   "source": [
    "### 12. Find the title of the video which has the maximum number of dislikes and the title of the video having minimum dislikes and write your inferences."
   ]
  },
  {
   "cell_type": "code",
   "execution_count": 29,
   "id": "6741377f",
   "metadata": {},
   "outputs": [
    {
     "data": {
      "text/html": [
       "<div>\n",
       "<style scoped>\n",
       "    .dataframe tbody tr th:only-of-type {\n",
       "        vertical-align: middle;\n",
       "    }\n",
       "\n",
       "    .dataframe tbody tr th {\n",
       "        vertical-align: top;\n",
       "    }\n",
       "\n",
       "    .dataframe thead th {\n",
       "        text-align: right;\n",
       "    }\n",
       "</style>\n",
       "<table border=\"1\" class=\"dataframe\">\n",
       "  <thead>\n",
       "    <tr style=\"text-align: right;\">\n",
       "      <th></th>\n",
       "      <th>dislikes</th>\n",
       "    </tr>\n",
       "    <tr>\n",
       "      <th>title</th>\n",
       "      <th></th>\n",
       "    </tr>\n",
       "  </thead>\n",
       "  <tbody>\n",
       "    <tr>\n",
       "      <th>Cuties | Official Trailer | Netflix</th>\n",
       "      <td>2397733</td>\n",
       "    </tr>\n",
       "    <tr>\n",
       "      <th>BTS () 'Dynamite' Official MV</th>\n",
       "      <td>1814333</td>\n",
       "    </tr>\n",
       "    <tr>\n",
       "      <th>Cardi B - WAP feat. Megan Thee Stallion [Official Music Video]</th>\n",
       "      <td>1331181</td>\n",
       "    </tr>\n",
       "    <tr>\n",
       "      <th>52 GAJ KA DAMAN | PRANJAL DAHIYA | AMAN JAJI | RENUKA PANWAR  | MUKESH JAJI | SAHIL SANDHU</th>\n",
       "      <td>1259533</td>\n",
       "    </tr>\n",
       "    <tr>\n",
       "      <th>BLACKPINK - 'Ice Cream (with Selena Gomez)' M/V</th>\n",
       "      <td>1253187</td>\n",
       "    </tr>\n",
       "    <tr>\n",
       "      <th>...</th>\n",
       "      <td>...</td>\n",
       "    </tr>\n",
       "    <tr>\n",
       "      <th>YONEX Thailand Open | Day 3: Saina Nehwal (IND) vs. Busanan Ongbamrungphan (THA)</th>\n",
       "      <td>7</td>\n",
       "    </tr>\n",
       "    <tr>\n",
       "      <th>Leeds Rhinos vs Wakefield Trinity | Super League Full Match</th>\n",
       "      <td>6</td>\n",
       "    </tr>\n",
       "    <tr>\n",
       "      <th>Live Stream: Hampshire v Yorkshire - LV= County Championship, Day Four</th>\n",
       "      <td>4</td>\n",
       "    </tr>\n",
       "    <tr>\n",
       "      <th>Tims For Good: A Taste Of The Familiar</th>\n",
       "      <td>3</td>\n",
       "    </tr>\n",
       "    <tr>\n",
       "      <th>Kim Kardashian's Must-See Moments on \"Saturday Night Live\" | E! News</th>\n",
       "      <td>0</td>\n",
       "    </tr>\n",
       "  </tbody>\n",
       "</table>\n",
       "<p>37113 rows × 1 columns</p>\n",
       "</div>"
      ],
      "text/plain": [
       "                                                    dislikes\n",
       "title                                                       \n",
       "Cuties | Official Trailer | Netflix                  2397733\n",
       "BTS () 'Dynamite' Official MV                        1814333\n",
       "Cardi B - WAP feat. Megan Thee Stallion [Offici...   1331181\n",
       "52 GAJ KA DAMAN | PRANJAL DAHIYA | AMAN JAJI | ...   1259533\n",
       "BLACKPINK - 'Ice Cream (with Selena Gomez)' M/V      1253187\n",
       "...                                                      ...\n",
       "YONEX Thailand Open | Day 3: Saina Nehwal (IND)...         7\n",
       "Leeds Rhinos vs Wakefield Trinity | Super Leagu...         6\n",
       "Live Stream: Hampshire v Yorkshire - LV= County...         4\n",
       "Tims For Good: A Taste Of The Familiar                     3\n",
       "Kim Kardashian's Must-See Moments on \"Saturday ...         0\n",
       "\n",
       "[37113 rows x 1 columns]"
      ]
     },
     "execution_count": 29,
     "metadata": {},
     "output_type": "execute_result"
    }
   ],
   "source": [
    "# To find the title of the video which has maximum number of dislikes and the title of the video having minimnum dislikes\n",
    "# we use pivot_table with title as index and dislikes as values and sum the the dislikes\n",
    "pd.pivot_table(data,index='title',values='dislikes',aggfunc=np.sum).sort_values(ascending=False,by='dislikes')"
   ]
  },
  {
   "cell_type": "markdown",
   "id": "b4c82f97",
   "metadata": {},
   "source": [
    "### Inference"
   ]
  },
  {
   "cell_type": "markdown",
   "id": "47c5d5b8",
   "metadata": {},
   "source": [
    "* The title of the video with maximum number of dislikes is Cuties | Official Trailer | Netflix with 2397733 dislikes"
   ]
  },
  {
   "cell_type": "markdown",
   "id": "418991c8",
   "metadata": {},
   "source": [
    "* The title of the video with minimum number of dislikes is Kim Kardashian's Must-See Moments on \"Saturday Night Live\" | E! News with 0 dislike"
   ]
  },
  {
   "cell_type": "markdown",
   "id": "af4de618",
   "metadata": {},
   "source": [
    "* It is observed that the video titled BTS () 'Dynamite' Official MV which got most number of likes on youtube is also the second most disliked video and the video titled Kim Kardashian's Must-See Moments on \"Saturday Night Live\" | E! News has 0 dislikes and 0 likes"
   ]
  },
  {
   "cell_type": "markdown",
   "id": "326f8415",
   "metadata": {},
   "source": [
    "### 13. Does the number of views have any effect on how many people disliked the video? Support your answer with a metric and a plot."
   ]
  },
  {
   "cell_type": "code",
   "execution_count": 30,
   "id": "15686eee",
   "metadata": {
    "scrolled": true
   },
   "outputs": [
    {
     "data": {
      "text/plain": [
       "0.6844687753905547"
      ]
     },
     "execution_count": 30,
     "metadata": {},
     "output_type": "execute_result"
    }
   ],
   "source": [
    "# to find out whether the number of views have any effect on how many people disliked the video\n",
    "# using correlation we can find out whether there is any relationship between the number of views and dislikes\n",
    "data['view_count'].corr(data['dislikes'])"
   ]
  },
  {
   "cell_type": "code",
   "execution_count": 31,
   "id": "8a7ebb41",
   "metadata": {},
   "outputs": [
    {
     "data": {
      "text/plain": [
       "<matplotlib.collections.PathCollection at 0x2555f395880>"
      ]
     },
     "execution_count": 31,
     "metadata": {},
     "output_type": "execute_result"
    },
    {
     "data": {
      "image/png": "[encoded data removed]",
      "text/plain": [
       "<Figure size 640x480 with 1 Axes>"
      ]
     },
     "metadata": {},
     "output_type": "display_data"
    }
   ],
   "source": [
    "# plotting using matplotlib scatter plot\n",
    "plt.scatter(data['view_count'],data['dislikes'])"
   ]
  },
  {
   "cell_type": "code",
   "execution_count": 32,
   "id": "cebf311e",
   "metadata": {
    "scrolled": true
   },
   "outputs": [
    {
     "data": {
      "text/plain": [
       "<Axes: xlabel='view_count', ylabel='dislikes'>"
      ]
     },
     "execution_count": 32,
     "metadata": {},
     "output_type": "execute_result"
    },
    {
     "data": {
      "image/png": "[encoded data removed]",
      "text/plain": [
       "<Figure size 640x480 with 1 Axes>"
      ]
     },
     "metadata": {},
     "output_type": "display_data"
    }
   ],
   "source": [
    "# plotting using seaborn scatterplot to find the effect of view_count on dislikes\n",
    "sns.scatterplot(data,x='view_count',y='dislikes')"
   ]
  },
  {
   "cell_type": "markdown",
   "id": "69f0080a",
   "metadata": {},
   "source": [
    "### Inference"
   ]
  },
  {
   "cell_type": "markdown",
   "id": "7e8b994c",
   "metadata": {},
   "source": [
    "* It is observed that the correlation coefficeint of view_count and dislikes is 0.684469, so there is a positive correlation between the both the variables, also the scatter plot shows that with the increase in view_count the dislikes also increases"
   ]
  },
  {
   "cell_type": "markdown",
   "id": "4b649b2e",
   "metadata": {},
   "source": [
    "### 14. Display all the information about the videos that were published in January, and mention the count of videos that were published in January.\n"
   ]
  },
  {
   "cell_type": "code",
   "execution_count": 33,
   "id": "13ba7808",
   "metadata": {},
   "outputs": [
    {
     "data": {
      "text/html": [
       "<div>\n",
       "<style scoped>\n",
       "    .dataframe tbody tr th:only-of-type {\n",
       "        vertical-align: middle;\n",
       "    }\n",
       "\n",
       "    .dataframe tbody tr th {\n",
       "        vertical-align: top;\n",
       "    }\n",
       "\n",
       "    .dataframe thead th {\n",
       "        text-align: right;\n",
       "    }\n",
       "</style>\n",
       "<table border=\"1\" class=\"dataframe\">\n",
       "  <thead>\n",
       "    <tr style=\"text-align: right;\">\n",
       "      <th></th>\n",
       "      <th>video_id</th>\n",
       "      <th>title</th>\n",
       "      <th>channel_id</th>\n",
       "      <th>channel_title</th>\n",
       "      <th>published_at</th>\n",
       "      <th>view_count</th>\n",
       "      <th>likes</th>\n",
       "      <th>dislikes</th>\n",
       "      <th>comment_count</th>\n",
       "      <th>tags</th>\n",
       "      <th>description</th>\n",
       "      <th>comments</th>\n",
       "      <th>published_month</th>\n",
       "    </tr>\n",
       "  </thead>\n",
       "  <tbody>\n",
       "    <tr>\n",
       "      <th>27</th>\n",
       "      <td>-2Gwm7QfBnE</td>\n",
       "      <td>Q&amp;A With Naisha</td>\n",
       "      <td>UCYwNMbogQFzMccPSuy-pPWg</td>\n",
       "      <td>MianTwins</td>\n",
       "      <td>2021-01-21 00:05:47</td>\n",
       "      <td>872372</td>\n",
       "      <td>38626</td>\n",
       "      <td>239</td>\n",
       "      <td>621</td>\n",
       "      <td></td>\n",
       "      <td>Hey Guys!!! this has been the most requested v...</td>\n",
       "      <td>I feel like Nate and Aishas personality match ...</td>\n",
       "      <td>Jan</td>\n",
       "    </tr>\n",
       "    <tr>\n",
       "      <th>48</th>\n",
       "      <td>-4sfXSHSxzA</td>\n",
       "      <td>SURPRISING BRENT WITH HIS TIKTOK CRUSH!!</td>\n",
       "      <td>UCPpATKqmMV-CNRNWYaDUwiA</td>\n",
       "      <td>Alexa Rivera</td>\n",
       "      <td>2021-01-16 21:40:04</td>\n",
       "      <td>6504784</td>\n",
       "      <td>262477</td>\n",
       "      <td>5779</td>\n",
       "      <td>7907</td>\n",
       "      <td></td>\n",
       "      <td>He had no idea! Thank you guys so much for wat...</td>\n",
       "      <td>Thank you guys for watching and don't forget t...</td>\n",
       "      <td>Jan</td>\n",
       "    </tr>\n",
       "    <tr>\n",
       "      <th>95</th>\n",
       "      <td>-AJD1Fc5rpQ</td>\n",
       "      <td>WE ARE HAVING A BABY! | finding out i'm pregna...</td>\n",
       "      <td>UCVsTboAhpnuL6j-tDePvNwQ</td>\n",
       "      <td>Tess Christine</td>\n",
       "      <td>2021-01-03 21:53:48</td>\n",
       "      <td>533084</td>\n",
       "      <td>38965</td>\n",
       "      <td>119</td>\n",
       "      <td>1650</td>\n",
       "      <td></td>\n",
       "      <td>I am so happy to tell you that I am pregnant!!...</td>\n",
       "      <td>Okay I needed a moment to collect my thoughts ...</td>\n",
       "      <td>Jan</td>\n",
       "    </tr>\n",
       "    <tr>\n",
       "      <th>103</th>\n",
       "      <td>-AuJiwjsmWk</td>\n",
       "      <td>Do Ugly Foods Taste Worse? Taste Test</td>\n",
       "      <td>UCzpCc5n9hqiVC7HhPwcIKEg</td>\n",
       "      <td>Good Mythical MORE</td>\n",
       "      <td>2021-01-19 11:00:01</td>\n",
       "      <td>1057077</td>\n",
       "      <td>22526</td>\n",
       "      <td>531</td>\n",
       "      <td>773</td>\n",
       "      <td>gmm good mythical morning rhettandlink rhett a...</td>\n",
       "      <td>Today, we're doing a blind taste test to deter...</td>\n",
       "      <td>\"there's nothing wrong with it being bent\"\\nI ...</td>\n",
       "      <td>Jan</td>\n",
       "    </tr>\n",
       "    <tr>\n",
       "      <th>182</th>\n",
       "      <td>-JhqO2KWr5U</td>\n",
       "      <td>Schlatt gets fit</td>\n",
       "      <td>UCWZp4y1jqBuvLtiyxSs_ZBw</td>\n",
       "      <td>Big guy</td>\n",
       "      <td>2021-01-24 22:50:57</td>\n",
       "      <td>1724965</td>\n",
       "      <td>119431</td>\n",
       "      <td>325</td>\n",
       "      <td>1578</td>\n",
       "      <td>jschlatt big guy jschlatt highlights schlatt j...</td>\n",
       "      <td>#jschlatt #schlatt #bigguy #short</td>\n",
       "      <td>Schlatt is single handedly wiping out all the ...</td>\n",
       "      <td>Jan</td>\n",
       "    </tr>\n",
       "    <tr>\n",
       "      <th>...</th>\n",
       "      <td>...</td>\n",
       "      <td>...</td>\n",
       "      <td>...</td>\n",
       "      <td>...</td>\n",
       "      <td>...</td>\n",
       "      <td>...</td>\n",
       "      <td>...</td>\n",
       "      <td>...</td>\n",
       "      <td>...</td>\n",
       "      <td>...</td>\n",
       "      <td>...</td>\n",
       "      <td>...</td>\n",
       "      <td>...</td>\n",
       "    </tr>\n",
       "    <tr>\n",
       "      <th>37300</th>\n",
       "      <td>zmzFL5bG-jc</td>\n",
       "      <td>DEVINE MON PERSONNAGE AVANT AKINATOR ! (c'est ...</td>\n",
       "      <td>UCIlr3byh6wmXgcPx_Tm9Ocw</td>\n",
       "      <td>Piwerre</td>\n",
       "      <td>2021-01-16 16:12:19</td>\n",
       "      <td>670357</td>\n",
       "      <td>54462</td>\n",
       "      <td>832</td>\n",
       "      <td>1249</td>\n",
       "      <td>Piwerre frere de michou crouton among us devin...</td>\n",
       "      <td>Discord Piwerre : https://discord.gg/QBduPgAA...</td>\n",
       "      <td>Mdr michou quand c'est pas ses tournage il fou...</td>\n",
       "      <td>Jan</td>\n",
       "    </tr>\n",
       "    <tr>\n",
       "      <th>37329</th>\n",
       "      <td>zpzjex7qwrA</td>\n",
       "      <td>Lampard Sacked Within Days Rorys Misery | Chel...</td>\n",
       "      <td>UCkD-ZOixI0a9FjIExDsHsbg</td>\n",
       "      <td>The Kick Off</td>\n",
       "      <td>2021-01-03 20:13:49</td>\n",
       "      <td>428646</td>\n",
       "      <td>12060</td>\n",
       "      <td>296</td>\n",
       "      <td>1505</td>\n",
       "      <td>Premier league Chelsea chelsea 1-3 Man City Ch...</td>\n",
       "      <td>The Kick Off watched Manchester City destroy C...</td>\n",
       "      <td>True Its like a fighter who Geordie But I thou...</td>\n",
       "      <td>Jan</td>\n",
       "    </tr>\n",
       "    <tr>\n",
       "      <th>37345</th>\n",
       "      <td>zqyv-B6mnBM</td>\n",
       "      <td>Lil Wayne - Ain't Got Time (Audio)</td>\n",
       "      <td>UCO9zJy7HWrIS3ojB4Lr7Yqw</td>\n",
       "      <td>Lil Wayne</td>\n",
       "      <td>2021-01-21 05:00:10</td>\n",
       "      <td>2238244</td>\n",
       "      <td>58925</td>\n",
       "      <td>2365</td>\n",
       "      <td>5539</td>\n",
       "      <td>lil wayne weezy weezy wednesday wayne carter y...</td>\n",
       "      <td>Official audio for Lil Wayne \"Ain't Got Time\",...</td>\n",
       "      <td>RIP Juice Wrld, wrote that on two cups, pour o...</td>\n",
       "      <td>Jan</td>\n",
       "    </tr>\n",
       "    <tr>\n",
       "      <th>37383</th>\n",
       "      <td>zwfu1-24T7Q</td>\n",
       "      <td>PRADA Cup Day 1 | Full Race Replay | PRADA Cup...</td>\n",
       "      <td>UCo15ZYO_XDRU9LI30OPtxAg</td>\n",
       "      <td>America's Cup</td>\n",
       "      <td>2021-01-15 04:07:55</td>\n",
       "      <td>317382</td>\n",
       "      <td>2008</td>\n",
       "      <td>83</td>\n",
       "      <td>192</td>\n",
       "      <td>America's Cup Americas Cup AC36 AC75 Presented...</td>\n",
       "      <td>The opening day of the PRADA Cup in Auckland, ...</td>\n",
       "      <td>Incredible how these boats evolve in a short t...</td>\n",
       "      <td>Jan</td>\n",
       "    </tr>\n",
       "    <tr>\n",
       "      <th>37418</th>\n",
       "      <td>zziBybeSAtw</td>\n",
       "      <td>PELICANS at LAKERS | FULL GAME HIGHLIGHTS | Ja...</td>\n",
       "      <td>UCWJ2lWNubArHWmf3FIHbfcQ</td>\n",
       "      <td>NBA</td>\n",
       "      <td>2021-01-16 05:39:05</td>\n",
       "      <td>2841917</td>\n",
       "      <td>20759</td>\n",
       "      <td>1049</td>\n",
       "      <td>2624</td>\n",
       "      <td>NBA G League Basketball game-0022000187 Lakers...</td>\n",
       "      <td>PELICANS at LAKERS | FULL GAME HIGHLIGHTS | Ja...</td>\n",
       "      <td>Montrezl Harrell is going crazy with the rebou...</td>\n",
       "      <td>Jan</td>\n",
       "    </tr>\n",
       "  </tbody>\n",
       "</table>\n",
       "<p>2108 rows × 13 columns</p>\n",
       "</div>"
      ],
      "text/plain": [
       "          video_id                                              title  \\\n",
       "27     -2Gwm7QfBnE                                    Q&A With Naisha   \n",
       "48     -4sfXSHSxzA           SURPRISING BRENT WITH HIS TIKTOK CRUSH!!   \n",
       "95     -AJD1Fc5rpQ  WE ARE HAVING A BABY! | finding out i'm pregna...   \n",
       "103    -AuJiwjsmWk              Do Ugly Foods Taste Worse? Taste Test   \n",
       "182    -JhqO2KWr5U                                   Schlatt gets fit   \n",
       "...            ...                                                ...   \n",
       "37300  zmzFL5bG-jc  DEVINE MON PERSONNAGE AVANT AKINATOR ! (c'est ...   \n",
       "37329  zpzjex7qwrA  Lampard Sacked Within Days Rorys Misery | Chel...   \n",
       "37345  zqyv-B6mnBM                 Lil Wayne - Ain't Got Time (Audio)   \n",
       "37383  zwfu1-24T7Q  PRADA Cup Day 1 | Full Race Replay | PRADA Cup...   \n",
       "37418  zziBybeSAtw  PELICANS at LAKERS | FULL GAME HIGHLIGHTS | Ja...   \n",
       "\n",
       "                     channel_id       channel_title        published_at  \\\n",
       "27     UCYwNMbogQFzMccPSuy-pPWg           MianTwins 2021-01-21 00:05:47   \n",
       "48     UCPpATKqmMV-CNRNWYaDUwiA        Alexa Rivera 2021-01-16 21:40:04   \n",
       "95     UCVsTboAhpnuL6j-tDePvNwQ      Tess Christine 2021-01-03 21:53:48   \n",
       "103    UCzpCc5n9hqiVC7HhPwcIKEg  Good Mythical MORE 2021-01-19 11:00:01   \n",
       "182    UCWZp4y1jqBuvLtiyxSs_ZBw             Big guy 2021-01-24 22:50:57   \n",
       "...                         ...                 ...                 ...   \n",
       "37300  UCIlr3byh6wmXgcPx_Tm9Ocw             Piwerre 2021-01-16 16:12:19   \n",
       "37329  UCkD-ZOixI0a9FjIExDsHsbg        The Kick Off 2021-01-03 20:13:49   \n",
       "37345  UCO9zJy7HWrIS3ojB4Lr7Yqw           Lil Wayne 2021-01-21 05:00:10   \n",
       "37383  UCo15ZYO_XDRU9LI30OPtxAg       America's Cup 2021-01-15 04:07:55   \n",
       "37418  UCWJ2lWNubArHWmf3FIHbfcQ                 NBA 2021-01-16 05:39:05   \n",
       "\n",
       "       view_count   likes  dislikes  comment_count  \\\n",
       "27         872372   38626       239            621   \n",
       "48        6504784  262477      5779           7907   \n",
       "95         533084   38965       119           1650   \n",
       "103       1057077   22526       531            773   \n",
       "182       1724965  119431       325           1578   \n",
       "...           ...     ...       ...            ...   \n",
       "37300      670357   54462       832           1249   \n",
       "37329      428646   12060       296           1505   \n",
       "37345     2238244   58925      2365           5539   \n",
       "37383      317382    2008        83            192   \n",
       "37418     2841917   20759      1049           2624   \n",
       "\n",
       "                                                    tags  \\\n",
       "27                                                         \n",
       "48                                                         \n",
       "95                                                         \n",
       "103    gmm good mythical morning rhettandlink rhett a...   \n",
       "182    jschlatt big guy jschlatt highlights schlatt j...   \n",
       "...                                                  ...   \n",
       "37300  Piwerre frere de michou crouton among us devin...   \n",
       "37329  Premier league Chelsea chelsea 1-3 Man City Ch...   \n",
       "37345  lil wayne weezy weezy wednesday wayne carter y...   \n",
       "37383  America's Cup Americas Cup AC36 AC75 Presented...   \n",
       "37418  NBA G League Basketball game-0022000187 Lakers...   \n",
       "\n",
       "                                             description  \\\n",
       "27     Hey Guys!!! this has been the most requested v...   \n",
       "48     He had no idea! Thank you guys so much for wat...   \n",
       "95     I am so happy to tell you that I am pregnant!!...   \n",
       "103    Today, we're doing a blind taste test to deter...   \n",
       "182                    #jschlatt #schlatt #bigguy #short   \n",
       "...                                                  ...   \n",
       "37300   Discord Piwerre : https://discord.gg/QBduPgAA...   \n",
       "37329  The Kick Off watched Manchester City destroy C...   \n",
       "37345  Official audio for Lil Wayne \"Ain't Got Time\",...   \n",
       "37383  The opening day of the PRADA Cup in Auckland, ...   \n",
       "37418  PELICANS at LAKERS | FULL GAME HIGHLIGHTS | Ja...   \n",
       "\n",
       "                                                comments published_month  \n",
       "27     I feel like Nate and Aishas personality match ...             Jan  \n",
       "48     Thank you guys for watching and don't forget t...             Jan  \n",
       "95     Okay I needed a moment to collect my thoughts ...             Jan  \n",
       "103    \"there's nothing wrong with it being bent\"\\nI ...             Jan  \n",
       "182    Schlatt is single handedly wiping out all the ...             Jan  \n",
       "...                                                  ...             ...  \n",
       "37300  Mdr michou quand c'est pas ses tournage il fou...             Jan  \n",
       "37329  True Its like a fighter who Geordie But I thou...             Jan  \n",
       "37345  RIP Juice Wrld, wrote that on two cups, pour o...             Jan  \n",
       "37383  Incredible how these boats evolve in a short t...             Jan  \n",
       "37418  Montrezl Harrell is going crazy with the rebou...             Jan  \n",
       "\n",
       "[2108 rows x 13 columns]"
      ]
     },
     "execution_count": 33,
     "metadata": {},
     "output_type": "execute_result"
    }
   ],
   "source": [
    "# To display all the information about the videos published in January\n",
    "data[data['published_month'] == 'Jan']"
   ]
  },
  {
   "cell_type": "code",
   "execution_count": 34,
   "id": "d177dcbc",
   "metadata": {},
   "outputs": [
    {
     "data": {
      "text/plain": [
       "2108"
      ]
     },
     "execution_count": 34,
     "metadata": {},
     "output_type": "execute_result"
    }
   ],
   "source": [
    "# to find the count of videos published in January\n",
    "(data['published_month'] == 'Jan').sum()"
   ]
  },
  {
   "cell_type": "markdown",
   "id": "c2901d82",
   "metadata": {},
   "source": [
    "* In the month of January, the number of videos published is 2108"
   ]
  }
 ],
 "metadata": {
  "kernelspec": {
   "display_name": "Python 3 (ipykernel)",
   "language": "python",
   "name": "python3"
  },
  "language_info": {
   "codemirror_mode": {
    "name": "ipython",
    "version": 3
   },
   "file_extension": ".py",
   "mimetype": "text/x-python",
   "name": "python",
   "nbconvert_exporter": "python",
   "pygments_lexer": "ipython3",
   "version": "3.10.9"
  }
 },
 "nbformat": 4,
 "nbformat_minor": 5
}
